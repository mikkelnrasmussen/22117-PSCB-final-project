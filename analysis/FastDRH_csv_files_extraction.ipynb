{
 "cells": [
  {
   "cell_type": "code",
   "execution_count": 33,
   "metadata": {},
   "outputs": [],
   "source": [
    "import os\n",
    "import pandas as pd\n",
    "\n",
    "# Set the path to the FASTDRH folder\n",
    "path = \"./\"\n",
    "\n",
    "# Create an empty dictionary to store the dataframes\n",
    "dataframes = {}\n",
    "\n",
    "# Loop through each folder A, B, C, and D\n",
    "concatenated_data = pd.DataFrame()\n",
    "names = []\n",
    "mutations = ['WT', '1', '2', '3', '4']\n",
    "for folder in ['Bosutinib', 'Saracatinib', 'RL38', 'Ibrutinib']:\n",
    "    \n",
    "    # Loop through each subfolder A_1 to A_5, B_1 to B_5, etc.\n",
    "    for subfolder in [f\"fastdrh_result_{folder}_{i}\" for i in mutations]:\n",
    "        \n",
    "        # Construct the path to the csv file in the docking folder\n",
    "        csv_path = os.path.join(path, folder, subfolder, \"docking\", \"fastdrh_docking_result.csv\")\n",
    "        csv_path = csv_path.replace(\"\\\\\", \"/\") # Windows stuff ;)\n",
    "        # Check if the file exists\n",
    "        if os.path.isfile(csv_path):\n",
    "            \n",
    "            # Read the csv file into a DataFrame\n",
    "            data = pd.read_csv(csv_path)\n",
    "            \n",
    "            # Add the DataFrame to the dictionary\n",
    "            name = f\"{folder}_{subfolder.split('_')[3]}\"\n",
    "            names.append(name)\n",
    "            dataframes[name] = data\n",
    "            \n",
    "            # Concatenate the data with the existing data\n",
    "            concatenated_data = pd.concat([concatenated_data, data])\n",
    "\n",
    "# Write the concatenated data to a new csv file\n",
    "concatenated_data.to_csv(\"./FastDRH_scores/concatenated_data.csv\", index=False)\n",
    "\n",
    "# Save each dataframe with the desired name\n",
    "for name, df in dataframes.items():\n",
    "    df.to_csv(f\"./FastDRH_scores/{name}.csv\", index=False)\n"
   ]
  }
 ],
 "metadata": {
  "kernelspec": {
   "display_name": "Python 3",
   "language": "python",
   "name": "python3"
  },
  "language_info": {
   "codemirror_mode": {
    "name": "ipython",
    "version": 3
   },
   "file_extension": ".py",
   "mimetype": "text/x-python",
   "name": "python",
   "nbconvert_exporter": "python",
   "pygments_lexer": "ipython3",
   "version": "3.9.13"
  },
  "orig_nbformat": 4
 },
 "nbformat": 4,
 "nbformat_minor": 2
}
